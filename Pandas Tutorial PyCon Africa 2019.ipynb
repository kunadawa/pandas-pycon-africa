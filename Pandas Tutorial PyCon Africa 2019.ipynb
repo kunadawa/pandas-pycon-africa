{
 "cells": [
  {
   "cell_type": "markdown",
   "metadata": {},
   "source": [
    "# Welcome to PyCon Africa 2019 Pandas Tutorial"
   ]
  },
  {
   "cell_type": "markdown",
   "metadata": {},
   "source": [
    "In this hands on workshop we shall explore pupil result for Primary Leaving Examination(PLE) for the years 2010-2016.\n",
    "\n",
    "With this dataset, we shall attempt to learn a few things about Uganda Primary Education while also learning some Pandas tricks as bonus.\n",
    "\n",
    "By **Kenneth Matovu** *SSE Andela Uganda*"
   ]
  },
  {
   "cell_type": "markdown",
   "metadata": {},
   "source": [
    "## Let's Get started"
   ]
  },
  {
   "cell_type": "markdown",
   "metadata": {},
   "source": [
    "* Glance at the Data\n",
    "* Clean the Data\n",
    "* Let's get the pandas on"
   ]
  },
  {
   "cell_type": "markdown",
   "metadata": {},
   "source": [
    "### 1. What were the best districts for each year?"
   ]
  },
  {
   "cell_type": "markdown",
   "metadata": {},
   "source": [
    "### 2. What districts have registered a decline in D1 performance in 2016?"
   ]
  },
  {
   "cell_type": "markdown",
   "metadata": {},
   "source": [
    "### 3. Bar graph showing a distribution of pupils who fail over the years by gender"
   ]
  },
  {
   "cell_type": "markdown",
   "metadata": {},
   "source": [
    "### 4. Boys vs Girls"
   ]
  },
  {
   "cell_type": "code",
   "execution_count": 2,
   "metadata": {},
   "outputs": [],
   "source": [
    "import pandas as pd\n",
    "from matplotlib import pyplot\n",
    "import matplotlib\n",
    "%matplotlib inline"
   ]
  },
  {
   "cell_type": "code",
   "execution_count": 3,
   "metadata": {},
   "outputs": [],
   "source": [
    "df = pd.read_csv('ple-results-by-district-2010-2016.csv')"
   ]
  },
  {
   "cell_type": "code",
   "execution_count": 8,
   "metadata": {},
   "outputs": [
    {
     "name": "stdout",
     "output_type": "stream",
     "text": [
      "rows: 932, columns: 42\n"
     ]
    }
   ],
   "source": [
    "rows, columns = df.shape\n",
    "print(f'rows: {rows}, columns: {columns}')"
   ]
  },
  {
   "cell_type": "markdown",
   "metadata": {},
   "source": [
    "Show columnn counts for cells with no data\n",
    "\n",
    "**TODO** - hide columns that have zero counts"
   ]
  },
  {
   "cell_type": "code",
   "execution_count": 11,
   "metadata": {},
   "outputs": [
    {
     "data": {
      "text/plain": [
       "YEAR                               0\n",
       "DISTRICT                           0\n",
       "NUMBER OF SCHOOLS/UNEB CENTRE    932\n",
       "TOTAL CANDIDATES                   0\n",
       "TOTAL DIV 1                        0\n",
       "% DIV 1                            0\n",
       "TOTAL DIV 2                        0\n",
       "% DIV 2                            0\n",
       "TOTAL DIV 3                        0\n",
       "% DIV 3                            0\n",
       "TOTAL DIV 4                        0\n",
       "% DIV 4                            0\n",
       "TOTAL U                            0\n",
       "% U                                0\n",
       "TOTAL X                            0\n",
       "% X                                0\n",
       "FEMALE CANDIDATES                  0\n",
       "FEMALE TOTAL DIV1                 13\n",
       "FEMALE % DIV1                      0\n",
       "FEMALE TOTAL DIV2                  0\n",
       "FEMALE % DIV2                      0\n",
       "FEMALE TOTAL DIV3                  0\n",
       "FEMALE % DIV3                      0\n",
       "FEMALE TOTAL DIV4                  2\n",
       "FEMALE % DIV4                      0\n",
       "FEMALE TOTAL U                     4\n",
       "FEMALE % U (%)                     0\n",
       "FEMALE TOTAL X                     0\n",
       "FEMALE % X                         0\n",
       "MALE CANDIDATES                    0\n",
       "MALE TOTAL DIV1                    1\n",
       "MALE % DIV1                        0\n",
       "MALE TOTAL DIV2                    0\n",
       "MALE % DIV2                        0\n",
       "MALE TOTAL DIV3                    0\n",
       "MALE % DIV3                        0\n",
       "MALE TOTAL DIV4                    0\n",
       "MALE % DIV4                        0\n",
       "MALE TOTAL U                       5\n",
       "MALE % U                           0\n",
       "MALE TOTAL X                       1\n",
       "MALE % X                           0\n",
       "dtype: int64"
      ]
     },
     "execution_count": 11,
     "metadata": {},
     "output_type": "execute_result"
    }
   ],
   "source": [
    "df.isna().sum()"
   ]
  },
  {
   "cell_type": "code",
   "execution_count": null,
   "metadata": {},
   "outputs": [],
   "source": []
  }
 ],
 "metadata": {
  "kernelspec": {
   "display_name": "Python 3",
   "language": "python",
   "name": "python3"
  },
  "language_info": {
   "codemirror_mode": {
    "name": "ipython",
    "version": 3
   },
   "file_extension": ".py",
   "mimetype": "text/x-python",
   "name": "python",
   "nbconvert_exporter": "python",
   "pygments_lexer": "ipython3",
   "version": "3.7.3"
  }
 },
 "nbformat": 4,
 "nbformat_minor": 4
}
