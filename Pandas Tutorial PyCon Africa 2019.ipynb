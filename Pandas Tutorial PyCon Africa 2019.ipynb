{
 "cells": [
  {
   "cell_type": "markdown",
   "metadata": {},
   "source": [
    "# Welcome to PyCon Africa 2019 Pandas Tutorial"
   ]
  },
  {
   "cell_type": "markdown",
   "metadata": {},
   "source": [
    "In this hands on workshop we shall explore pupil result for Primary Leaving Examination(PLE) for the years 2010-2016.\n",
    "\n",
    "With this dataset, we shall attempt to learn a few things about Uganda Primary Education while also learning some Pandas tricks as bonus.\n",
    "\n",
    "By **Kenneth Matovu** *SSE Andela Uganda*"
   ]
  },
  {
   "cell_type": "markdown",
   "metadata": {},
   "source": [
    "## Let's Get started"
   ]
  },
  {
   "cell_type": "markdown",
   "metadata": {},
   "source": [
    "* Glance at the Data\n",
    "* Clean the Data\n",
    "* Let's get the pandas on"
   ]
  },
  {
   "cell_type": "markdown",
   "metadata": {},
   "source": [
    "### 1. What were the best districts for each year?"
   ]
  },
  {
   "cell_type": "markdown",
   "metadata": {},
   "source": [
    "### 2. What districts have registered a decline in D1 performance in 2016?"
   ]
  },
  {
   "cell_type": "markdown",
   "metadata": {},
   "source": [
    "### 3. Bar graph showing a distribution of pupils who fail over the years by gender"
   ]
  },
  {
   "cell_type": "markdown",
   "metadata": {},
   "source": [
    "### 4. Boys vs Girls"
   ]
  },
  {
   "cell_type": "code",
   "execution_count": 2,
   "metadata": {},
   "outputs": [],
   "source": [
    "import pandas as pd\n",
    "from matplotlib import pyplot\n",
    "import matplotlib\n",
    "%matplotlib inline"
   ]
  },
  {
   "cell_type": "code",
   "execution_count": 3,
   "metadata": {},
   "outputs": [],
   "source": [
    "df = pd.read_csv('ple-results-by-district-2010-2016.csv')"
   ]
  },
  {
   "cell_type": "code",
   "execution_count": 8,
   "metadata": {},
   "outputs": [
    {
     "name": "stdout",
     "output_type": "stream",
     "text": [
      "rows: 932, columns: 42\n"
     ]
    }
   ],
   "source": [
    "rows, columns = df.shape\n",
    "print(f'rows: {rows}, columns: {columns}')"
   ]
  },
  {
   "cell_type": "markdown",
   "metadata": {},
   "source": [
    "Show columnn counts for cells with no data\n",
    "\n",
    "**TODO** - hide columns that have zero counts"
   ]
  },
  {
   "cell_type": "code",
   "execution_count": 22,
   "metadata": {},
   "outputs": [
    {
     "data": {
      "text/plain": [
       "YEAR                               0\n",
       "DISTRICT                           0\n",
       "NUMBER OF SCHOOLS/UNEB CENTRE    932\n",
       "TOTAL CANDIDATES                   0\n",
       "TOTAL DIV 1                        0\n",
       "% DIV 1                            0\n",
       "TOTAL DIV 2                        0\n",
       "% DIV 2                            0\n",
       "TOTAL DIV 3                        0\n",
       "% DIV 3                            0\n",
       "TOTAL DIV 4                        0\n",
       "% DIV 4                            0\n",
       "TOTAL U                            0\n",
       "% U                                0\n",
       "TOTAL X                            0\n",
       "% X                                0\n",
       "FEMALE CANDIDATES                  0\n",
       "FEMALE TOTAL DIV1                 13\n",
       "FEMALE % DIV1                      0\n",
       "FEMALE TOTAL DIV2                  0\n",
       "FEMALE % DIV2                      0\n",
       "FEMALE TOTAL DIV3                  0\n",
       "FEMALE % DIV3                      0\n",
       "FEMALE TOTAL DIV4                  2\n",
       "FEMALE % DIV4                      0\n",
       "FEMALE TOTAL U                     4\n",
       "FEMALE % U (%)                     0\n",
       "FEMALE TOTAL X                     0\n",
       "FEMALE % X                         0\n",
       "MALE CANDIDATES                    0\n",
       "MALE TOTAL DIV1                    1\n",
       "MALE % DIV1                        0\n",
       "MALE TOTAL DIV2                    0\n",
       "MALE % DIV2                        0\n",
       "MALE TOTAL DIV3                    0\n",
       "MALE % DIV3                        0\n",
       "MALE TOTAL DIV4                    0\n",
       "MALE % DIV4                        0\n",
       "MALE TOTAL U                       5\n",
       "MALE % U                           0\n",
       "MALE TOTAL X                       1\n",
       "MALE % X                           0\n",
       "dtype: int64"
      ]
     },
     "execution_count": 22,
     "metadata": {},
     "output_type": "execute_result"
    }
   ],
   "source": [
    "df.isna().sum()"
   ]
  },
  {
   "cell_type": "markdown",
   "metadata": {},
   "source": [
    "### Drop the empty column"
   ]
  },
  {
   "cell_type": "code",
   "execution_count": 25,
   "metadata": {},
   "outputs": [],
   "source": [
    "df = df.drop('NUMBER OF SCHOOLS/UNEB CENTRE', axis=1)"
   ]
  },
  {
   "cell_type": "markdown",
   "metadata": {},
   "source": [
    "### 1. What were the best districts for each year?"
   ]
  },
  {
   "cell_type": "code",
   "execution_count": 26,
   "metadata": {},
   "outputs": [
    {
     "data": {
      "text/html": [
       "<div>\n",
       "<style scoped>\n",
       "    .dataframe tbody tr th:only-of-type {\n",
       "        vertical-align: middle;\n",
       "    }\n",
       "\n",
       "    .dataframe tbody tr th {\n",
       "        vertical-align: top;\n",
       "    }\n",
       "\n",
       "    .dataframe thead th {\n",
       "        text-align: right;\n",
       "    }\n",
       "</style>\n",
       "<table border=\"1\" class=\"dataframe\">\n",
       "  <thead>\n",
       "    <tr style=\"text-align: right;\">\n",
       "      <th></th>\n",
       "      <th></th>\n",
       "      <th>YEAR</th>\n",
       "      <th>DISTRICT</th>\n",
       "      <th>TOTAL CANDIDATES</th>\n",
       "      <th>TOTAL DIV 1</th>\n",
       "      <th>% DIV 1</th>\n",
       "      <th>TOTAL DIV 2</th>\n",
       "      <th>% DIV 2</th>\n",
       "      <th>TOTAL DIV 3</th>\n",
       "      <th>% DIV 3</th>\n",
       "      <th>TOTAL DIV 4</th>\n",
       "      <th>...</th>\n",
       "      <th>MALE TOTAL DIV2</th>\n",
       "      <th>MALE % DIV2</th>\n",
       "      <th>MALE TOTAL DIV3</th>\n",
       "      <th>MALE % DIV3</th>\n",
       "      <th>MALE TOTAL DIV4</th>\n",
       "      <th>MALE % DIV4</th>\n",
       "      <th>MALE TOTAL U</th>\n",
       "      <th>MALE % U</th>\n",
       "      <th>MALE TOTAL X</th>\n",
       "      <th>MALE % X</th>\n",
       "    </tr>\n",
       "    <tr>\n",
       "      <th>YEAR</th>\n",
       "      <th></th>\n",
       "      <th></th>\n",
       "      <th></th>\n",
       "      <th></th>\n",
       "      <th></th>\n",
       "      <th></th>\n",
       "      <th></th>\n",
       "      <th></th>\n",
       "      <th></th>\n",
       "      <th></th>\n",
       "      <th></th>\n",
       "      <th></th>\n",
       "      <th></th>\n",
       "      <th></th>\n",
       "      <th></th>\n",
       "      <th></th>\n",
       "      <th></th>\n",
       "      <th></th>\n",
       "      <th></th>\n",
       "      <th></th>\n",
       "      <th></th>\n",
       "      <th></th>\n",
       "    </tr>\n",
       "  </thead>\n",
       "  <tbody>\n",
       "    <tr>\n",
       "      <th>2010</th>\n",
       "      <th>52</th>\n",
       "      <td>2010</td>\n",
       "      <td>KAMPALA</td>\n",
       "      <td>25509</td>\n",
       "      <td>7105</td>\n",
       "      <td>27.9</td>\n",
       "      <td>13737</td>\n",
       "      <td>53.9</td>\n",
       "      <td>2370</td>\n",
       "      <td>9.3</td>\n",
       "      <td>1027</td>\n",
       "      <td>...</td>\n",
       "      <td>6168</td>\n",
       "      <td>51.5</td>\n",
       "      <td>897</td>\n",
       "      <td>7.5</td>\n",
       "      <td>409</td>\n",
       "      <td>3.4</td>\n",
       "      <td>388.0</td>\n",
       "      <td>3.2</td>\n",
       "      <td>236.0</td>\n",
       "      <td>2.0</td>\n",
       "    </tr>\n",
       "    <tr>\n",
       "      <th>2011</th>\n",
       "      <th>185</th>\n",
       "      <td>2011</td>\n",
       "      <td>KAMPALA</td>\n",
       "      <td>26104</td>\n",
       "      <td>7851</td>\n",
       "      <td>30.1</td>\n",
       "      <td>13291</td>\n",
       "      <td>50.9</td>\n",
       "      <td>2299</td>\n",
       "      <td>8.8</td>\n",
       "      <td>1372</td>\n",
       "      <td>...</td>\n",
       "      <td>5920</td>\n",
       "      <td>48.0</td>\n",
       "      <td>1010</td>\n",
       "      <td>8.2</td>\n",
       "      <td>498</td>\n",
       "      <td>4.0</td>\n",
       "      <td>428.0</td>\n",
       "      <td>3.5</td>\n",
       "      <td>206.0</td>\n",
       "      <td>1.7</td>\n",
       "    </tr>\n",
       "    <tr>\n",
       "      <th>2012</th>\n",
       "      <th>318</th>\n",
       "      <td>2012</td>\n",
       "      <td>KAMPALA</td>\n",
       "      <td>27070</td>\n",
       "      <td>8713</td>\n",
       "      <td>32.2</td>\n",
       "      <td>13688</td>\n",
       "      <td>50.6</td>\n",
       "      <td>2137</td>\n",
       "      <td>7.9</td>\n",
       "      <td>1286</td>\n",
       "      <td>...</td>\n",
       "      <td>6060</td>\n",
       "      <td>47.0</td>\n",
       "      <td>922</td>\n",
       "      <td>7.2</td>\n",
       "      <td>480</td>\n",
       "      <td>3.7</td>\n",
       "      <td>353.0</td>\n",
       "      <td>2.7</td>\n",
       "      <td>233.0</td>\n",
       "      <td>1.8</td>\n",
       "    </tr>\n",
       "    <tr>\n",
       "      <th>2013</th>\n",
       "      <th>451</th>\n",
       "      <td>2013</td>\n",
       "      <td>KAMPALA</td>\n",
       "      <td>26711</td>\n",
       "      <td>7345</td>\n",
       "      <td>27.5</td>\n",
       "      <td>14457</td>\n",
       "      <td>54.1</td>\n",
       "      <td>2384</td>\n",
       "      <td>8.9</td>\n",
       "      <td>1203</td>\n",
       "      <td>...</td>\n",
       "      <td>6468</td>\n",
       "      <td>51.8</td>\n",
       "      <td>965</td>\n",
       "      <td>7.7</td>\n",
       "      <td>426</td>\n",
       "      <td>3.4</td>\n",
       "      <td>369.0</td>\n",
       "      <td>3.0</td>\n",
       "      <td>220.0</td>\n",
       "      <td>1.8</td>\n",
       "    </tr>\n",
       "    <tr>\n",
       "      <th>2014</th>\n",
       "      <th>795</th>\n",
       "      <td>2014</td>\n",
       "      <td>WAKISO</td>\n",
       "      <td>38289</td>\n",
       "      <td>8268</td>\n",
       "      <td>21.6</td>\n",
       "      <td>19352</td>\n",
       "      <td>50.5</td>\n",
       "      <td>4911</td>\n",
       "      <td>12.8</td>\n",
       "      <td>2782</td>\n",
       "      <td>...</td>\n",
       "      <td>8950</td>\n",
       "      <td>50.4</td>\n",
       "      <td>2028</td>\n",
       "      <td>11.4</td>\n",
       "      <td>1018</td>\n",
       "      <td>5.7</td>\n",
       "      <td>936.0</td>\n",
       "      <td>5.3</td>\n",
       "      <td>384.0</td>\n",
       "      <td>2.2</td>\n",
       "    </tr>\n",
       "    <tr>\n",
       "      <th>2015</th>\n",
       "      <th>662</th>\n",
       "      <td>2015</td>\n",
       "      <td>WAKISO</td>\n",
       "      <td>38338</td>\n",
       "      <td>7680</td>\n",
       "      <td>20.0</td>\n",
       "      <td>18148</td>\n",
       "      <td>47.3</td>\n",
       "      <td>5552</td>\n",
       "      <td>14.5</td>\n",
       "      <td>3566</td>\n",
       "      <td>...</td>\n",
       "      <td>8067</td>\n",
       "      <td>46.6</td>\n",
       "      <td>2296</td>\n",
       "      <td>13.3</td>\n",
       "      <td>1396</td>\n",
       "      <td>8.1</td>\n",
       "      <td>1103.0</td>\n",
       "      <td>6.4</td>\n",
       "      <td>428.0</td>\n",
       "      <td>2.5</td>\n",
       "    </tr>\n",
       "    <tr>\n",
       "      <th>2016</th>\n",
       "      <th>929</th>\n",
       "      <td>2016</td>\n",
       "      <td>WAKISO</td>\n",
       "      <td>42569</td>\n",
       "      <td>8910</td>\n",
       "      <td>20.9</td>\n",
       "      <td>20076</td>\n",
       "      <td>47.2</td>\n",
       "      <td>5788</td>\n",
       "      <td>13.6</td>\n",
       "      <td>4481</td>\n",
       "      <td>...</td>\n",
       "      <td>9005</td>\n",
       "      <td>46.0</td>\n",
       "      <td>2446</td>\n",
       "      <td>12.5</td>\n",
       "      <td>1793</td>\n",
       "      <td>9.2</td>\n",
       "      <td>1183.0</td>\n",
       "      <td>6.0</td>\n",
       "      <td>335.0</td>\n",
       "      <td>1.8</td>\n",
       "    </tr>\n",
       "  </tbody>\n",
       "</table>\n",
       "<p>7 rows × 41 columns</p>\n",
       "</div>"
      ],
      "text/plain": [
       "          YEAR DISTRICT   TOTAL CANDIDATES  TOTAL DIV 1  % DIV 1  TOTAL DIV 2  \\\n",
       "YEAR                                                                            \n",
       "2010 52   2010  KAMPALA              25509         7105     27.9        13737   \n",
       "2011 185  2011  KAMPALA              26104         7851     30.1        13291   \n",
       "2012 318  2012  KAMPALA              27070         8713     32.2        13688   \n",
       "2013 451  2013  KAMPALA              26711         7345     27.5        14457   \n",
       "2014 795  2014    WAKISO             38289         8268     21.6        19352   \n",
       "2015 662  2015   WAKISO              38338         7680     20.0        18148   \n",
       "2016 929  2016    WAKISO             42569         8910     20.9        20076   \n",
       "\n",
       "          % DIV 2  TOTAL DIV 3  % DIV 3  TOTAL DIV 4  ...  MALE TOTAL DIV2   \\\n",
       "YEAR                                                  ...                     \n",
       "2010 52      53.9         2370      9.3         1027  ...              6168   \n",
       "2011 185     50.9         2299      8.8         1372  ...              5920   \n",
       "2012 318     50.6         2137      7.9         1286  ...              6060   \n",
       "2013 451     54.1         2384      8.9         1203  ...              6468   \n",
       "2014 795     50.5         4911     12.8         2782  ...              8950   \n",
       "2015 662     47.3         5552     14.5         3566  ...              8067   \n",
       "2016 929     47.2         5788     13.6         4481  ...              9005   \n",
       "\n",
       "          MALE % DIV2  MALE TOTAL DIV3  MALE % DIV3  MALE TOTAL DIV4  \\\n",
       "YEAR                                                                   \n",
       "2010 52          51.5              897          7.5              409   \n",
       "2011 185         48.0             1010          8.2              498   \n",
       "2012 318         47.0              922          7.2              480   \n",
       "2013 451         51.8              965          7.7              426   \n",
       "2014 795         50.4             2028         11.4             1018   \n",
       "2015 662         46.6             2296         13.3             1396   \n",
       "2016 929         46.0             2446         12.5             1793   \n",
       "\n",
       "          MALE % DIV4   MALE TOTAL U  MALE % U   MALE TOTAL X  MALE % X  \n",
       "YEAR                                                                     \n",
       "2010 52            3.4         388.0        3.2         236.0       2.0  \n",
       "2011 185           4.0         428.0        3.5         206.0       1.7  \n",
       "2012 318           3.7         353.0        2.7         233.0       1.8  \n",
       "2013 451           3.4         369.0        3.0         220.0       1.8  \n",
       "2014 795           5.7         936.0        5.3         384.0       2.2  \n",
       "2015 662           8.1        1103.0        6.4         428.0       2.5  \n",
       "2016 929           9.2        1183.0        6.0         335.0       1.8  \n",
       "\n",
       "[7 rows x 41 columns]"
      ]
     },
     "execution_count": 26,
     "metadata": {},
     "output_type": "execute_result"
    }
   ],
   "source": [
    "group_by_years = df.groupby('YEAR').apply(pd.DataFrame.nlargest, n=1, columns=['TOTAL DIV 1'])\n",
    "group_by_years"
   ]
  },
  {
   "cell_type": "code",
   "execution_count": null,
   "metadata": {},
   "outputs": [],
   "source": []
  }
 ],
 "metadata": {
  "kernelspec": {
   "display_name": "Python 3",
   "language": "python",
   "name": "python3"
  },
  "language_info": {
   "codemirror_mode": {
    "name": "ipython",
    "version": 3
   },
   "file_extension": ".py",
   "mimetype": "text/x-python",
   "name": "python",
   "nbconvert_exporter": "python",
   "pygments_lexer": "ipython3",
   "version": "3.7.3"
  }
 },
 "nbformat": 4,
 "nbformat_minor": 4
}
